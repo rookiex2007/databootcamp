{
 "cells":[
  {
   "cell_type":"markdown",
   "source":[
    "# Intro to web scraping in R"
   ],
   "attachments":{
    
   },
   "metadata":{
    "datalore":{
     "node_id":"E3iqswF92w3DpmtrV46gkT",
     "type":"MD",
     "hide_input_from_viewers":false,
     "hide_output_from_viewers":false
    }
   }
  },
  {
   "cell_type":"markdown",
   "source":[
    "**First, Need to load library (rvest)**"
   ],
   "attachments":{
    
   },
   "metadata":{
    "datalore":{
     "node_id":"CcaFEPQwzY5SPpm2Q9BHCD",
     "type":"MD",
     "hide_input_from_viewers":false,
     "hide_output_from_viewers":false
    }
   }
  },
  {
   "cell_type":"markdown",
   "source":[
    "# **Step 1: Install rvest**"
   ],
   "attachments":{
    
   },
   "metadata":{
    "datalore":{
     "node_id":"Imc7ZyDXTOp9fMFpJMTyCP",
     "type":"MD",
     "hide_input_from_viewers":false,
     "hide_output_from_viewers":false
    }
   }
  },
  {
   "cell_type":"code",
   "source":[
    "library(tidyverse)\n",
    "library(rvest)"
   ],
   "execution_count":2,
   "outputs":[
    {
     "name":"stderr",
     "text":[
      "Warning message in system(\"timedatectl\", intern = TRUE):\n",
      "“running command 'timedatectl' had status 1”\n",
      "Warning message:\n",
      "“Failed to locate timezone database”\n",
      "── \u001b[1mAttaching packages\u001b[22m ─────────────────────────────────────── tidyverse 1.3.1 ──\n",
      "\n",
      "\u001b[32m✔\u001b[39m \u001b[34mggplot2\u001b[39m 3.3.5     \u001b[32m✔\u001b[39m \u001b[34mpurrr  \u001b[39m 0.3.4\n",
      "\u001b[32m✔\u001b[39m \u001b[34mtibble \u001b[39m 3.1.5     \u001b[32m✔\u001b[39m \u001b[34mdplyr  \u001b[39m 1.0.7\n",
      "\u001b[32m✔\u001b[39m \u001b[34mtidyr  \u001b[39m 1.1.4     \u001b[32m✔\u001b[39m \u001b[34mstringr\u001b[39m 1.4.0\n",
      "\u001b[32m✔\u001b[39m \u001b[34mreadr  \u001b[39m 2.0.2     \u001b[32m✔\u001b[39m \u001b[34mforcats\u001b[39m 0.5.1\n",
      "\n",
      "── \u001b[1mConflicts\u001b[22m ────────────────────────────────────────── tidyverse_conflicts() ──\n",
      "\u001b[31m✖\u001b[39m \u001b[34mdplyr\u001b[39m::\u001b[32mfilter()\u001b[39m  masks \u001b[34mstats\u001b[39m::filter()\n",
      "\u001b[31m✖\u001b[39m \u001b[34mpurrr\u001b[39m::\u001b[32mflatten()\u001b[39m masks \u001b[34mjsonlite\u001b[39m::flatten()\n",
      "\u001b[31m✖\u001b[39m \u001b[34mdplyr\u001b[39m::\u001b[32mlag()\u001b[39m     masks \u001b[34mstats\u001b[39m::lag()\n",
      "\n",
      "\n",
      "Attaching package: ‘rvest’\n",
      "\n",
      "\n",
      "The following object is masked from ‘package:readr’:\n",
      "\n",
      "    guess_encoding\n",
      "\n",
      "\n"
     ],
     "output_type":"stream"
    }
   ],
   "metadata":{
    "datalore":{
     "node_id":"tg3PkbHAuEmduuITV365Ue",
     "type":"CODE",
     "hide_input_from_viewers":false,
     "hide_output_from_viewers":false
    }
   }
  },
  {
   "cell_type":"markdown",
   "source":[
    "# **Step 2: Retrieve the HTML Page**"
   ],
   "attachments":{
    
   },
   "metadata":{
    "datalore":{
     "node_id":"DTrLKlgFzuYqQBKZLdMe28",
     "type":"MD",
     "hide_input_from_viewers":false,
     "hide_output_from_viewers":false
    }
   }
  },
  {
   "cell_type":"code",
   "source":[
    "# retrieving the target web page \n",
    "document <- read_html(\"https:\/\/scrapeme.live\/shop\")"
   ],
   "execution_count":3,
   "outputs":[
    
   ],
   "metadata":{
    "datalore":{
     "node_id":"ieqtY9AC5qIAWuMY8gQTnP",
     "type":"CODE",
     "hide_input_from_viewers":false,
     "hide_output_from_viewers":false
    }
   }
  },
  {
   "cell_type":"markdown",
   "source":[
    "The **read_html()** function retrieves the HTML downloaded using the URL passed as a parameter, then parses it and assigns the resulting data structure to the document variable."
   ],
   "attachments":{
    
   },
   "metadata":{
    "datalore":{
     "node_id":"vM8ZGbROxw3CUXc6qHsgPT",
     "type":"MD",
     "hide_input_from_viewers":false,
     "hide_output_from_viewers":false
    }
   }
  },
  {
   "cell_type":"code",
   "source":[
    "# print out document contents\n",
    "print(document)"
   ],
   "execution_count":4,
   "outputs":[
    {
     "name":"stdout",
     "text":[
      "{html_document}\n",
      "<html lang=\"en-GB\">\n",
      "[1] <head>\\n<meta http-equiv=\"Content-Type\" content=\"text\/html; charset=UTF-8 ...\n",
      "[2] <body class=\"archive post-type-archive post-type-archive-product woocomme ...\n"
     ],
     "output_type":"stream"
    }
   ],
   "metadata":{
    "datalore":{
     "node_id":"LYpxncR2qSOUfUyKW9vbrO",
     "type":"CODE",
     "hide_input_from_viewers":false,
     "hide_output_from_viewers":false
    }
   }
  },
  {
   "cell_type":"markdown",
   "source":[
    "# **Step 3: Identify and Select the Most Important HTML elements**"
   ],
   "attachments":{
    
   },
   "metadata":{
    "datalore":{
     "node_id":"91cAFtVy95KCzqWwnWffJI",
     "type":"MD",
     "hide_input_from_viewers":false,
     "hide_output_from_viewers":false
    }
   }
  },
  {
   "cell_type":"code",
   "source":[
    "# selecting the list of product HTML elements \n",
    "html_products <- document %>% html_elements(\"li.product\")"
   ],
   "execution_count":5,
   "outputs":[
    
   ],
   "metadata":{
    "datalore":{
     "node_id":"4nzx7FjaNQtFEqsTJ6SjTm",
     "type":"CODE",
     "hide_input_from_viewers":false,
     "hide_output_from_viewers":false
    }
   }
  },
  {
   "cell_type":"markdown",
   "source":[
    "Notice from the HTML code that a li.product HTML element includes:\n",
    "- An **a** that stores the product URL.\n",
    "- An **img** that contains the product image.\n",
    "- A **h2** that keeps the product name.\n",
    "- A **span** that stores the product price."
   ],
   "attachments":{
    
   },
   "metadata":{
    "datalore":{
     "node_id":"D5azJc1RdUcDwvPUikQnVO",
     "type":"MD",
     "hide_input_from_viewers":false,
     "hide_output_from_viewers":false
    }
   }
  },
  {
   "cell_type":"code",
   "source":[
    "print(html_products)"
   ],
   "execution_count":6,
   "outputs":[
    {
     "name":"stdout",
     "text":[
      "{xml_nodeset (16)}\n",
      " [1] <li class=\"post-759 product type-product status-publish has-post-thumbna ...\n",
      " [2] <li class=\"post-729 product type-product status-publish has-post-thumbna ...\n",
      " [3] <li class=\"post-730 product type-product status-publish has-post-thumbna ...\n",
      " [4] <li class=\"post-731 product type-product status-publish has-post-thumbna ...\n",
      " [5] <li class=\"post-732 product type-product status-publish has-post-thumbna ...\n",
      " [6] <li class=\"post-733 product type-product status-publish has-post-thumbna ...\n",
      " [7] <li class=\"post-734 product type-product status-publish has-post-thumbna ...\n",
      " [8] <li class=\"post-735 product type-product status-publish has-post-thumbna ...\n",
      " [9] <li class=\"post-736 product type-product status-publish has-post-thumbna ...\n",
      "[10] <li class=\"post-737 product type-product status-publish has-post-thumbna ...\n",
      "[11] <li class=\"post-738 product type-product status-publish has-post-thumbna ...\n",
      "[12] <li class=\"post-739 product type-product status-publish has-post-thumbna ...\n",
      "[13] <li class=\"post-740 product type-product status-publish has-post-thumbna ...\n",
      "[14] <li class=\"post-741 product type-product status-publish has-post-thumbna ...\n",
      "[15] <li class=\"post-742 product type-product status-publish has-post-thumbna ...\n",
      "[16] <li class=\"post-743 product type-product status-publish has-post-thumbna ...\n"
     ],
     "output_type":"stream"
    }
   ],
   "metadata":{
    "datalore":{
     "node_id":"4bqBrACLwsgTTLUdAfaQFG",
     "type":"CODE",
     "hide_input_from_viewers":false,
     "hide_output_from_viewers":false
    }
   }
  },
  {
   "cell_type":"markdown",
   "source":[
    "This executes the html_elements() rvest function on document by using the **R %>% pipe operator**. Specifically, html_elements() returns the list of HTML elements found applying a CSS selector or XPath expression."
   ],
   "attachments":{
    
   },
   "metadata":{
    "datalore":{
     "node_id":"uE5xqy1hSvaMzzHCaHrf0y",
     "type":"MD",
     "hide_input_from_viewers":false,
     "hide_output_from_viewers":false
    }
   }
  },
  {
   "cell_type":"code",
   "source":[
    "# selecting the \"a\" HTML element storing the product URL \n",
    "a_element <- html_products %>% html_element(\"a\") \n",
    "# selecting the \"img\" HTML element storing the product image \n",
    "img_element <- html_products %>% html_element(\"img\") \n",
    "# selecting the \"h2\" HTML element storing the product name \n",
    "h2_element <- html_products %>% html_element(\"h2\") \n",
    "# selecting the \"span\" HTML element storing the product price \n",
    "span_element <- html_products %>% html_element(\"span\")"
   ],
   "execution_count":7,
   "outputs":[
    
   ],
   "metadata":{
    "datalore":{
     "node_id":"QYc3GVeOV6RmLTbfG0kCww",
     "type":"CODE",
     "hide_input_from_viewers":false,
     "hide_output_from_viewers":false
    }
   }
  },
  {
   "cell_type":"code",
   "source":[
    "print(a_element)"
   ],
   "execution_count":8,
   "outputs":[
    {
     "name":"stdout",
     "text":[
      "{xml_nodeset (16)}\n",
      " [1] <a href=\"https:\/\/scrapeme.live\/shop\/Bulbasaur\/\" class=\"woocommerce-LoopP ...\n",
      " [2] <a href=\"https:\/\/scrapeme.live\/shop\/Ivysaur\/\" class=\"woocommerce-LoopPro ...\n",
      " [3] <a href=\"https:\/\/scrapeme.live\/shop\/Venusaur\/\" class=\"woocommerce-LoopPr ...\n",
      " [4] <a href=\"https:\/\/scrapeme.live\/shop\/Charmander\/\" class=\"woocommerce-Loop ...\n",
      " [5] <a href=\"https:\/\/scrapeme.live\/shop\/Charmeleon\/\" class=\"woocommerce-Loop ...\n",
      " [6] <a href=\"https:\/\/scrapeme.live\/shop\/Charizard\/\" class=\"woocommerce-LoopP ...\n",
      " [7] <a href=\"https:\/\/scrapeme.live\/shop\/Squirtle\/\" class=\"woocommerce-LoopPr ...\n",
      " [8] <a href=\"https:\/\/scrapeme.live\/shop\/Wartortle\/\" class=\"woocommerce-LoopP ...\n",
      " [9] <a href=\"https:\/\/scrapeme.live\/shop\/Blastoise\/\" class=\"woocommerce-LoopP ...\n",
      "[10] <a href=\"https:\/\/scrapeme.live\/shop\/Caterpie\/\" class=\"woocommerce-LoopPr ...\n",
      "[11] <a href=\"https:\/\/scrapeme.live\/shop\/Metapod\/\" class=\"woocommerce-LoopPro ...\n",
      "[12] <a href=\"https:\/\/scrapeme.live\/shop\/Butterfree\/\" class=\"woocommerce-Loop ...\n",
      "[13] <a href=\"https:\/\/scrapeme.live\/shop\/Weedle\/\" class=\"woocommerce-LoopProd ...\n",
      "[14] <a href=\"https:\/\/scrapeme.live\/shop\/Kakuna\/\" class=\"woocommerce-LoopProd ...\n",
      "[15] <a href=\"https:\/\/scrapeme.live\/shop\/Beedrill\/\" class=\"woocommerce-LoopPr ...\n",
      "[16] <a href=\"https:\/\/scrapeme.live\/shop\/Pidgey\/\" class=\"woocommerce-LoopProd ...\n"
     ],
     "output_type":"stream"
    }
   ],
   "metadata":{
    "datalore":{
     "node_id":"80nByEJdkuhjtlptmbDMjh",
     "type":"CODE",
     "hide_input_from_viewers":false,
     "hide_output_from_viewers":false
    }
   }
  },
  {
   "cell_type":"markdown",
   "source":[
    "# **Step 4: Extract the Data from the HTML Elements**\n",
    "rvest applies the last function of the queue statement to each HTML element selected with html_element() from html_products. html_attr() returns the string stored in a single attribute. Similarly, html_text2() returns the text in an HTML element as it looks in a browser."
   ],
   "attachments":{
    
   },
   "metadata":{
    "datalore":{
     "node_id":"G64XDtWuXXGJUycnovO6gE",
     "type":"MD",
     "hide_input_from_viewers":false,
     "hide_output_from_viewers":false
    }
   }
  },
  {
   "cell_type":"code",
   "source":[
    "# extracting data from the list of products and storing the scraped data into 4 lists \n",
    "product_urls <- html_products %>% \n",
    "\thtml_element(\"a\") %>% \n",
    "\thtml_attr(\"href\") \n",
    "product_images <- html_products %>% \n",
    "\thtml_element(\"img\") %>% \n",
    "\thtml_attr(\"src\") \n",
    "product_names <- html_products %>% \n",
    "\thtml_element(\"h2\") %>% \n",
    "\thtml_text2() \n",
    "product_prices <- html_products %>% \n",
    "\thtml_element(\"span\") %>% \n",
    "\thtml_text2()"
   ],
   "execution_count":9,
   "outputs":[
    
   ],
   "metadata":{
    "datalore":{
     "node_id":"zApOzywJduFXy0j5APUCsp",
     "type":"CODE",
     "hide_input_from_viewers":false,
     "hide_output_from_viewers":false
    }
   }
  },
  {
   "cell_type":"code",
   "source":[
    "# converting the lists containg the scraped data into a dataframe \n",
    "products <- data.frame( \n",
    "\tproduct_urls, \n",
    "\tproduct_images, \n",
    "\tproduct_names, \n",
    "\tproduct_prices \n",
    ")"
   ],
   "execution_count":10,
   "outputs":[
    
   ],
   "metadata":{
    "datalore":{
     "node_id":"odtKspd9CaQ9VdwNCgrupS",
     "type":"CODE",
     "hide_input_from_viewers":false,
     "hide_output_from_viewers":false
    }
   }
  },
  {
   "cell_type":"markdown",
   "source":[
    "# **Step 5: Export the Scraped Data to CSV**\n",
    "Before converting the products variable into CSV format, change its column names using names(). It allows you to change the names associated with every dataframe component so that the exported CSV file will be easier to read."
   ],
   "attachments":{
    
   },
   "metadata":{
    "datalore":{
     "node_id":"NNK3ossHt7UltjvDsnIhXa",
     "type":"MD",
     "hide_input_from_viewers":false,
     "hide_output_from_viewers":false
    }
   }
  },
  {
   "cell_type":"code",
   "source":[
    "# changing the column names of the data frame before exporting it into CSV \n",
    "names(products) <- c(\"url\", \"image\", \"name\", \"price\")"
   ],
   "execution_count":11,
   "outputs":[
    
   ],
   "metadata":{
    "datalore":{
     "node_id":"UaTBnjivrQHvVomyQgyPOq",
     "type":"CODE",
     "hide_input_from_viewers":false,
     "hide_output_from_viewers":false
    }
   }
  },
  {
   "cell_type":"markdown",
   "source":[
    "Export the dataframe object to a CSV file using the **write.csv()** method, which instructs your R web crawler to produce a **products.csv** file containing the scraped data."
   ],
   "attachments":{
    
   },
   "metadata":{
    "datalore":{
     "node_id":"UiamsRbgdpUEjHuOwDyu02",
     "type":"MD",
     "hide_input_from_viewers":false,
     "hide_output_from_viewers":false
    }
   }
  },
  {
   "cell_type":"code",
   "source":[
    "# export the data frame containing the scraped data to a CSV file \n",
    "write.csv(products, file = \".\/products.csv\", fileEncoding = \"UTF-8\")"
   ],
   "execution_count":12,
   "outputs":[
    
   ],
   "metadata":{
    "datalore":{
     "node_id":"A56xYZn8tQX1rtt6yKGGrY",
     "type":"CODE",
     "hide_input_from_viewers":false,
     "hide_output_from_viewers":false
    }
   }
  },
  {
   "cell_type":"code",
   "source":[
    
   ],
   "execution_count":null,
   "outputs":[
    
   ],
   "metadata":{
    "datalore":{
     "node_id":"xtmXRnLgCSk7nHQqjVVB1E",
     "type":"CODE",
     "hide_input_from_viewers":false,
     "hide_output_from_viewers":false
    }
   }
  }
 ],
 "metadata":{
  "kernelspec":{
   "display_name":"R",
   "language":"r",
   "name":"ir"
  },
  "datalore":{
   "version":1,
   "computation_mode":"JUPYTER",
   "package_manager":"conda",
   "base_environment":"minimal",
   "packages":[
    
   ]
  }
 },
 "nbformat":4,
 "nbformat_minor":4
}